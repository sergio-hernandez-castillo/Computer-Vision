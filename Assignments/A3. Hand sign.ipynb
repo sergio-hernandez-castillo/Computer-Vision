{
 "cells": [
  {
   "cell_type": "markdown",
   "metadata": {},
   "source": [
    "# Hand edge detection\n",
    "---\n",
    "Using the techniques from previous notebooks, create a computer vision pipeline to process the images in the **images/hand_gestures_digits_0_5** folder:\n",
    "\n",
    "![Expected input plot](images/hand_gestures_digits_0_5/output_1.png)\n",
    "\n",
    "into the following:\n",
    "\n",
    "![Expected output plot](images/hand_gestures_digits_0_5/output_2.png)"
   ]
  },
  {
   "cell_type": "markdown",
   "metadata": {},
   "source": [
    "### Imports"
   ]
  },
  {
   "cell_type": "code",
   "execution_count": 30,
   "metadata": {},
   "outputs": [],
   "source": [
    "import cv2 \n",
    "import os, glob\n",
    "\n",
    "import numpy as np\n",
    "import matplotlib.pyplot as plt\n",
    "\n",
    "%matplotlib inline\n",
    "\n",
    "image_dir = \"images/hand_gestures_digits_0_5\""
   ]
  },
  {
   "cell_type": "markdown",
   "metadata": {},
   "source": [
    "### Plot all the base images in a subplot of 2 rows and 3 columns"
   ]
  },
  {
   "cell_type": "code",
   "execution_count": 2,
   "metadata": {},
   "outputs": [],
   "source": [
    "## Code to plot the base images."
   ]
  },
  {
   "cell_type": "markdown",
   "metadata": {},
   "source": [
    "### Process all the images. Add all the code cells you may require."
   ]
  },
  {
   "cell_type": "code",
   "execution_count": 1,
   "metadata": {},
   "outputs": [],
   "source": [
    "## Image processing."
   ]
  },
  {
   "cell_type": "markdown",
   "metadata": {},
   "source": [
    "### Plot all the processed images in a subplot of 2 rows and 3 columns."
   ]
  },
  {
   "cell_type": "code",
   "execution_count": null,
   "metadata": {},
   "outputs": [],
   "source": [
    "## Code to plot the processed images."
   ]
  }
 ],
 "metadata": {
  "interpreter": {
   "hash": "5dc9dfce278473e05285c270e1e3a02ecef4e5474462079cef92624dc159a002"
  },
  "kernelspec": {
   "display_name": "Python 3.8.5 ('ai')",
   "language": "python",
   "name": "python3"
  },
  "language_info": {
   "codemirror_mode": {
    "name": "ipython",
    "version": 3
   },
   "file_extension": ".py",
   "mimetype": "text/x-python",
   "name": "python",
   "nbconvert_exporter": "python",
   "pygments_lexer": "ipython3",
   "version": "3.8.5"
  },
  "orig_nbformat": 4
 },
 "nbformat": 4,
 "nbformat_minor": 2
}
